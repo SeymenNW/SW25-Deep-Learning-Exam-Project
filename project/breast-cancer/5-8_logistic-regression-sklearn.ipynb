{
 "cells": [
  {
   "metadata": {},
   "cell_type": "markdown",
   "source": [
    "### Projekt Oggave 5-8 med Breast Cancer Datasæt: Klassifikation med Logistisk Regression + Metrics\n",
    "5. Træn en `LogisticRegression`-model (brug alle data-rækker) til at klassificere tumorer som benigne eller maligne. Eksperimenter med forskellige værdier af parametrene `max_iter`, `test_size` og `random_state`.\n",
    "\n",
    "6. Evaluer modellen ved hjælp af `accuracy_score`. Forsøg at finde værdier for parametrene som mindsker din accuracy.\n",
    "\n",
    "7. Brug `confusion_matrix` til at analysere fejlkategorier. Se hvordan din confusion matrix ændres, når du ændrer på parametrenes værdier (og dermed accuracy).\n",
    "\n",
    "8. Visualiser resultatet med `seaborn.heatmap()`.\n"
   ],
   "id": "9f431f12a11224a3"
  }
 ],
 "metadata": {
  "kernelspec": {
   "display_name": "Python 3",
   "language": "python",
   "name": "python3"
  },
  "language_info": {
   "codemirror_mode": {
    "name": "ipython",
    "version": 2
   },
   "file_extension": ".py",
   "mimetype": "text/x-python",
   "name": "python",
   "nbconvert_exporter": "python",
   "pygments_lexer": "ipython2",
   "version": "2.7.6"
  }
 },
 "nbformat": 4,
 "nbformat_minor": 5
}
