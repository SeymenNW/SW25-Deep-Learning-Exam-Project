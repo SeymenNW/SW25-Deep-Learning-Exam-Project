{
 "cells": [
  {
   "metadata": {},
   "cell_type": "markdown",
   "source": [
    "### Projekt Opgave 3 og 4 med Breast Cancer Datasæt: Lineær Regression, Test Size og Random State\n",
    "\n",
    "1. Opret en model med `LinearRegression` fra `sklearn` og forsøg at forudsige en kontinuerlig værdi (fx \"mean radius\"). Da der er mange rækker i data, vil modellen blive meget nøjagtig, så prøv fx at nøjes med de første 15 rækker:\n",
    "   ```python\n",
    "   X = data.data[0:15, :]\n",
    "   y = data.data[0:15, 0]  # \"mean radius\" er 1. kolonne\n",
    "\n",
    "\n",
    "\n",
    "2. Eksperimenter med forskellige værdier af `test_size` og `random_state` og forskellige antal rækker fra data.\n",
    "\n"
   ],
   "id": "80743329bb6b6a90"
  },
  {
   "metadata": {},
   "cell_type": "code",
   "outputs": [],
   "execution_count": null,
   "source": "",
   "id": "3517ebca11c0c1ed"
  }
 ],
 "metadata": {
  "kernelspec": {
   "display_name": "Python 3",
   "language": "python",
   "name": "python3"
  },
  "language_info": {
   "codemirror_mode": {
    "name": "ipython",
    "version": 2
   },
   "file_extension": ".py",
   "mimetype": "text/x-python",
   "name": "python",
   "nbconvert_exporter": "python",
   "pygments_lexer": "ipython2",
   "version": "2.7.6"
  }
 },
 "nbformat": 4,
 "nbformat_minor": 5
}
