{
 "cells": [
  {
   "metadata": {},
   "cell_type": "code",
   "outputs": [],
   "execution_count": null,
   "source": "",
   "id": "dcf696a0aa23eebb"
  },
  {
   "metadata": {},
   "cell_type": "markdown",
   "source": [
    "### Projekt Opgaver 25-27 med Breast Cancer Datasæt: PCA, Reduktion af dimensionalitet, 2D Visualisering og Clustering\n",
    "\n",
    "25. Brug `Principal Component Analysis` (PCA) til at reducere dimensionaliteten af `breast_cancer`-datasættet fra `sklearn`.\n",
    "\n",
    "26. Visualisér data i 2D og analyser, hvor meget varians der bevares.\n",
    "\n",
    "27. Brug clustering (specifikt: `AgglomerativeClustering`) til at gruppere `breast_cancer`-data i 2 klasser og sammenlign resultaterne med de faktiske etiketter.\n",
    "   Lav et diagram med en confusion matrix.\n"
   ],
   "id": "7dc4d4fee2e2c552"
  }
 ],
 "metadata": {
  "kernelspec": {
   "display_name": "Python 3",
   "language": "python",
   "name": "python3"
  },
  "language_info": {
   "codemirror_mode": {
    "name": "ipython",
    "version": 2
   },
   "file_extension": ".py",
   "mimetype": "text/x-python",
   "name": "python",
   "nbconvert_exporter": "python",
   "pygments_lexer": "ipython2",
   "version": "2.7.6"
  }
 },
 "nbformat": 4,
 "nbformat_minor": 5
}
