{
 "cells": [
  {
   "metadata": {},
   "cell_type": "code",
   "outputs": [],
   "execution_count": null,
   "source": "",
   "id": "901ca817ad147c0b"
  },
  {
   "metadata": {},
   "cell_type": "markdown",
   "source": [
    "### Projekt Opgave 19-20 med Breast Cancer Datasæt: SVC-Model, Lineær Kerne(l), SVM Accuracy og Beslutningsgrænse\n",
    "\n",
    "19. Træn en `SVC`-model med en lineær kerne (`kernel`) og find `svm_accuracy`.\n",
    "   Prøv med andre kerner.\n",
    "\n",
    "20. For at visualisere beslutningsgrænsen kan vi ikke arbejde med 30 features, men må begrænse os til 2[2]. Træn og predict på 2 features og lav et diagram som viser beslutningsgrænsen.\n"
   ],
   "id": "a3a6d27d333cf9e5"
  }
 ],
 "metadata": {
  "kernelspec": {
   "display_name": "Python 3",
   "language": "python",
   "name": "python3"
  },
  "language_info": {
   "codemirror_mode": {
    "name": "ipython",
    "version": 2
   },
   "file_extension": ".py",
   "mimetype": "text/x-python",
   "name": "python",
   "nbconvert_exporter": "python",
   "pygments_lexer": "ipython2",
   "version": "2.7.6"
  }
 },
 "nbformat": 4,
 "nbformat_minor": 5
}
