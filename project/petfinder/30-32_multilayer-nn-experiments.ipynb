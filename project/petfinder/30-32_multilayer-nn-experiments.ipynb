{
 "cells": [
  {
   "metadata": {},
   "cell_type": "markdown",
   "source": [
    "### Projekt Opgave 30-32 med PetFinder (Pawpularity) Datasæt: Multilayer Neuralt Netværk med eksperimenter\n",
    "30. Byg et (multilayer) neuralt netværk (NN) på PetFinder billederne (få fx inspiration fra bogens MNIST-eksempler).\n",
    "31. Eksperimenter med begreber og eksempler fra kapitel 13.\n"
   ],
   "id": "75470e57ed9c38ed"
  }
 ],
 "metadata": {
  "kernelspec": {
   "display_name": "Python 3",
   "language": "python",
   "name": "python3"
  },
  "language_info": {
   "codemirror_mode": {
    "name": "ipython",
    "version": 2
   },
   "file_extension": ".py",
   "mimetype": "text/x-python",
   "name": "python",
   "nbconvert_exporter": "python",
   "pygments_lexer": "ipython2",
   "version": "2.7.6"
  }
 },
 "nbformat": 4,
 "nbformat_minor": 5
}
