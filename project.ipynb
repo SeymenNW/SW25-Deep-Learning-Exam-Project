{
 "cells": [
  {
   "metadata": {},
   "cell_type": "code",
   "outputs": [],
   "execution_count": null,
   "source": "",
   "id": "5ed47a958d60147a"
  },
  {
   "metadata": {},
   "cell_type": "markdown",
   "source": [
    "### Eksamensprojekt: Deep Learning\n",
    "\n",
    "Dette er den samlede Jupyter Notebook til alle de forskellige projektopgaver. (Ikke færdig endnu)"
   ],
   "id": "9a2ac5e6f58b61d5"
  },
  {
   "metadata": {},
   "cell_type": "markdown",
   "source": [
    "## Opgave 1-2 med Breast Cancer Datasæt: Udforskning af data\n",
    "1. Udforsk datasættene på forskellige måder (indlæs data, udskriv noget data, tjek datas dimensioner / størrelse osv. osv.).\n",
    "2. Udarbejd en (Python) applikation som kan indlæse og vise datasættene"
   ],
   "id": "a9fee13c9dd281d9"
  }
 ],
 "metadata": {
  "kernelspec": {
   "display_name": "Python 3",
   "language": "python",
   "name": "python3"
  },
  "language_info": {
   "codemirror_mode": {
    "name": "ipython",
    "version": 2
   },
   "file_extension": ".py",
   "mimetype": "text/x-python",
   "name": "python",
   "nbconvert_exporter": "python",
   "pygments_lexer": "ipython2",
   "version": "2.7.6"
  }
 },
 "nbformat": 4,
 "nbformat_minor": 5
}
