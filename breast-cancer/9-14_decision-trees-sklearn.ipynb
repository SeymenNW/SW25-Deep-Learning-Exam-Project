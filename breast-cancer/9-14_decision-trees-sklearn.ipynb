{
 "cells": [
  {
   "metadata": {},
   "cell_type": "markdown",
   "source": [
    "### Projekt Opgave 9-14 med Breast Cancer Datasæt: Decision Trees, DT Visualisering, Metrics\n",
    "\n",
    "9. Træn en beslutningstræ-model (`DecisionTreeClassifier`) og sammenlign dens præstation med logistisk regression. Eksperimenter med værdier af `max_depth`.\n",
    "\n",
    "10. Visualiser træet ved hjælp af `plot_tree()`.\n",
    "\n",
    "11. Beregn `precision_score`, `recall_score`, og `f1_score` for den trænede model.\n",
    "\n",
    "12. Diskutér, hvornår man bør prioritere `precision` over `recall`.\n",
    "\n",
    "13. Anvend `cross_val_score` til at evaluere modellens præstation med 5-fold cross-validation. Eksperimenter med forskellige værdier af parametren `cv`.\n",
    "\n",
    "14. Sammenlign resultaterne for beslutningstræer og logistisk regression.\n"
   ],
   "id": "e7a90980b2f3f6c2"
  }
 ],
 "metadata": {
  "kernelspec": {
   "display_name": "Python 3",
   "language": "python",
   "name": "python3"
  },
  "language_info": {
   "codemirror_mode": {
    "name": "ipython",
    "version": 2
   },
   "file_extension": ".py",
   "mimetype": "text/x-python",
   "name": "python",
   "nbconvert_exporter": "python",
   "pygments_lexer": "ipython2",
   "version": "2.7.6"
  }
 },
 "nbformat": 4,
 "nbformat_minor": 5
}
