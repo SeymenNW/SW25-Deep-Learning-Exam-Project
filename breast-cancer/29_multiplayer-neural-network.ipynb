{
 "cells": [
  {
   "metadata": {},
   "cell_type": "code",
   "outputs": [],
   "execution_count": null,
   "source": "",
   "id": "832192fb1b83237d"
  },
  {
   "metadata": {},
   "cell_type": "markdown",
   "source": [
    "### Projekt Opgave 29 med Breast Cancer Datasæt: Multilayer Neuralt Netværk\n",
    "\n",
    "29. Byg et (multilayer) neuralt netværk (NN) på datasættet fra tidligere og se, om du kan få bedre resultatet end fx lineær regression.\n"
   ],
   "id": "ba83e4a9c966b7da"
  }
 ],
 "metadata": {
  "kernelspec": {
   "display_name": "Python 3",
   "language": "python",
   "name": "python3"
  },
  "language_info": {
   "codemirror_mode": {
    "name": "ipython",
    "version": 2
   },
   "file_extension": ".py",
   "mimetype": "text/x-python",
   "name": "python",
   "nbconvert_exporter": "python",
   "pygments_lexer": "ipython2",
   "version": "2.7.6"
  }
 },
 "nbformat": 4,
 "nbformat_minor": 5
}
