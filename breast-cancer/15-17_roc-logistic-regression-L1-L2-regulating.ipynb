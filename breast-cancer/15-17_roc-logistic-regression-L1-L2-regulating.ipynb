{
 "cells": [
  {
   "metadata": {},
   "cell_type": "markdown",
   "source": [
    "### Projekt Opgave 15-17 med Breast Cancer Datasæt: ROC Curve, L1,L2 Penalty, Effekten af Regulering\n",
    "\n",
    "15. Tegn en ROC-kurve for den logistiske regression ved hjælp af `roc_curve` og beregn AUC-score[1].\n",
    "\n",
    "16. Træn tre `LogisticRegression`-modeller:\n",
    "   - 1 uden regulering (`penalty=None`)\n",
    "   - 1 med L1 penalty\n",
    "   - 1 med L2 penalty\n",
    "\n",
    "17. Analyser effekten af regulering på vægtene i modellen. Visualiser dette ved hjælp af `plot()`. Eksperimenter med forskellige værdier af `solver` og `max_iter` i din `LogisticRegression`-model.\n"
   ],
   "id": "482cee6b45d4f119"
  }
 ],
 "metadata": {
  "kernelspec": {
   "display_name": "Python 3",
   "language": "python",
   "name": "python3"
  },
  "language_info": {
   "codemirror_mode": {
    "name": "ipython",
    "version": 2
   },
   "file_extension": ".py",
   "mimetype": "text/x-python",
   "name": "python",
   "nbconvert_exporter": "python",
   "pygments_lexer": "ipython2",
   "version": "2.7.6"
  }
 },
 "nbformat": 4,
 "nbformat_minor": 5
}
