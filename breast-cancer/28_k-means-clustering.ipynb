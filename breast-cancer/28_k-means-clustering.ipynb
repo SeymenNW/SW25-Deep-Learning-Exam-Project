{
 "cells": [
  {
   "metadata": {},
   "cell_type": "code",
   "outputs": [],
   "execution_count": null,
   "source": "",
   "id": "1d1ff2ddf14b80e6"
  },
  {
   "metadata": {},
   "cell_type": "markdown",
   "source": [
    "### Projekt Opgave 28 med Breast Cancer Datasæt: K-Means Clustering\n",
    "\n",
    "28. Anvend K-Means clustering på `breast_cancer`-datasættet og bestem det optimale antal klynger ved hjælp af \"Elbow Method\".\n"
   ],
   "id": "ca4b639668ca8201"
  }
 ],
 "metadata": {
  "kernelspec": {
   "display_name": "Python 3",
   "language": "python",
   "name": "python3"
  },
  "language_info": {
   "codemirror_mode": {
    "name": "ipython",
    "version": 2
   },
   "file_extension": ".py",
   "mimetype": "text/x-python",
   "name": "python",
   "nbconvert_exporter": "python",
   "pygments_lexer": "ipython2",
   "version": "2.7.6"
  }
 },
 "nbformat": 4,
 "nbformat_minor": 5
}
