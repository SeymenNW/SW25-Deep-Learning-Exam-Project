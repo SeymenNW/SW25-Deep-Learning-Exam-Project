{
 "cells": [
  {
   "metadata": {},
   "cell_type": "code",
   "outputs": [],
   "execution_count": null,
   "source": "",
   "id": "a3e900a9e3426bc"
  },
  {
   "metadata": {},
   "cell_type": "markdown",
   "source": [
    "### Projekt Opgave 21-24 med Breast Cancer Datasæt: Random Forest, Decision Tree Classifiers og Bagging / Bootstrap-Sampling\n",
    "\n",
    "21. Træn en `RandomForestClassifier` og sammenlign præstationen med enkeltstående beslutningstræer.\n",
    "\n",
    "22. Brug `BaggingClassifier` med beslutningstræer for at undersøge effekten af bootstrap-sampling.\n",
    "\n",
    "23. Visualiser (`plot()` fra `matplotlib.pyplot`) en learning curve[3] for en `DecisionTreeClassifier`-model og en for `RandomForestClassifier`-model.\n",
    "   Plot såvel for `test_scores` og `train_scores` for begge modeller.\n",
    "   **Tip:** Hvis din train-kurve er en vandret linje (scores er alle 1), kan du begrænse `max_depth` for dine modeller.\n",
    "\n",
    "24. Diskutér forskellen i bias / variance afhængigt af dybden af træet.\n"
   ],
   "id": "6dd6c807e5631043"
  }
 ],
 "metadata": {
  "kernelspec": {
   "display_name": "Python 3",
   "language": "python",
   "name": "python3"
  },
  "language_info": {
   "codemirror_mode": {
    "name": "ipython",
    "version": 2
   },
   "file_extension": ".py",
   "mimetype": "text/x-python",
   "name": "python",
   "nbconvert_exporter": "python",
   "pygments_lexer": "ipython2",
   "version": "2.7.6"
  }
 },
 "nbformat": 4,
 "nbformat_minor": 5
}
