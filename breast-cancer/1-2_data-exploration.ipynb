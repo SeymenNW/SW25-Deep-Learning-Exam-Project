{
 "cells": [
  {
   "metadata": {},
   "cell_type": "markdown",
   "source": [
    "### Projekt Opgave 1-2 med Breast Cancer Datasæt: Udforskning af data\n",
    "1. Udforsk datasættene på forskellige måder (indlæs data, udskriv noget data, tjek datas dimensioner / størrelse osv. osv.).\n",
    "2. Udarbejd en (Python) applikation som kan indlæse og vise datasættene"
   ],
   "id": "849a482221a99192"
  }
 ],
 "metadata": {
  "kernelspec": {
   "display_name": "Python 3",
   "language": "python",
   "name": "python3"
  },
  "language_info": {
   "codemirror_mode": {
    "name": "ipython",
    "version": 2
   },
   "file_extension": ".py",
   "mimetype": "text/x-python",
   "name": "python",
   "nbconvert_exporter": "python",
   "pygments_lexer": "ipython2",
   "version": "2.7.6"
  }
 },
 "nbformat": 4,
 "nbformat_minor": 5
}
